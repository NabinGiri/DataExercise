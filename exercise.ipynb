{
 "cells": [
  {
   "cell_type": "code",
   "execution_count": 18,
   "metadata": {},
   "outputs": [],
   "source": [
    "import pandas as pd\n",
    "import numpy as np\n",
    "from scipy import stats\n",
    "from sklearn.metrics import confusion_matrix\n",
    "from sklearn.metrics import accuracy_score \n",
    "from sklearn.metrics import classification_report"
   ]
  },
  {
   "cell_type": "code",
   "execution_count": 19,
   "metadata": {},
   "outputs": [],
   "source": [
    "df = pd.read_csv(\"E:\\Klaviyo\\screening_exercise_orders_v201810.csv\")"
   ]
  },
  {
   "cell_type": "code",
   "execution_count": 20,
   "metadata": {},
   "outputs": [],
   "source": [
    "# Question A : \n",
    "# Assemble a dataframe with one row per customer and the following columns:\n",
    "\n",
    "# * customer_id\n",
    "# * gender\n",
    "# * most_recent_order_date\n",
    "# * order_count (number of orders placed by this customer)\n",
    "\n",
    "# Sort the dataframe by customer_id ascending and display the first 10 rows"
   ]
  },
  {
   "cell_type": "code",
   "execution_count": 21,
   "metadata": {},
   "outputs": [
    {
     "data": {
      "text/html": [
       "<div>\n",
       "<style scoped>\n",
       "    .dataframe tbody tr th:only-of-type {\n",
       "        vertical-align: middle;\n",
       "    }\n",
       "\n",
       "    .dataframe tbody tr th {\n",
       "        vertical-align: top;\n",
       "    }\n",
       "\n",
       "    .dataframe thead th {\n",
       "        text-align: right;\n",
       "    }\n",
       "</style>\n",
       "<table border=\"1\" class=\"dataframe\">\n",
       "  <thead>\n",
       "    <tr style=\"text-align: right;\">\n",
       "      <th></th>\n",
       "      <th>customer_id</th>\n",
       "      <th>gender</th>\n",
       "      <th>most_recent_order_date</th>\n",
       "      <th>order_count</th>\n",
       "    </tr>\n",
       "  </thead>\n",
       "  <tbody>\n",
       "    <tr>\n",
       "      <th>0</th>\n",
       "      <td>1000</td>\n",
       "      <td>0</td>\n",
       "      <td>2017-01-01 00:11:31</td>\n",
       "      <td>1</td>\n",
       "    </tr>\n",
       "    <tr>\n",
       "      <th>1</th>\n",
       "      <td>1001</td>\n",
       "      <td>0</td>\n",
       "      <td>2017-01-01 00:29:56</td>\n",
       "      <td>1</td>\n",
       "    </tr>\n",
       "    <tr>\n",
       "      <th>1742</th>\n",
       "      <td>1002</td>\n",
       "      <td>1</td>\n",
       "      <td>2017-02-19 21:35:31</td>\n",
       "      <td>3</td>\n",
       "    </tr>\n",
       "    <tr>\n",
       "      <th>4323</th>\n",
       "      <td>1003</td>\n",
       "      <td>1</td>\n",
       "      <td>2017-04-26 02:37:20</td>\n",
       "      <td>4</td>\n",
       "    </tr>\n",
       "    <tr>\n",
       "      <th>4</th>\n",
       "      <td>1004</td>\n",
       "      <td>0</td>\n",
       "      <td>2017-01-01 03:11:54</td>\n",
       "      <td>1</td>\n",
       "    </tr>\n",
       "    <tr>\n",
       "      <th>12953</th>\n",
       "      <td>1005</td>\n",
       "      <td>1</td>\n",
       "      <td>2017-12-16 01:39:27</td>\n",
       "      <td>2</td>\n",
       "    </tr>\n",
       "    <tr>\n",
       "      <th>4798</th>\n",
       "      <td>1006</td>\n",
       "      <td>1</td>\n",
       "      <td>2017-05-09 15:27:20</td>\n",
       "      <td>3</td>\n",
       "    </tr>\n",
       "    <tr>\n",
       "      <th>7</th>\n",
       "      <td>1007</td>\n",
       "      <td>0</td>\n",
       "      <td>2017-01-01 15:59:50</td>\n",
       "      <td>1</td>\n",
       "    </tr>\n",
       "    <tr>\n",
       "      <th>12991</th>\n",
       "      <td>1008</td>\n",
       "      <td>0</td>\n",
       "      <td>2017-12-17 05:47:48</td>\n",
       "      <td>3</td>\n",
       "    </tr>\n",
       "    <tr>\n",
       "      <th>9</th>\n",
       "      <td>1009</td>\n",
       "      <td>1</td>\n",
       "      <td>2017-01-01 19:27:17</td>\n",
       "      <td>1</td>\n",
       "    </tr>\n",
       "  </tbody>\n",
       "</table>\n",
       "</div>"
      ],
      "text/plain": [
       "       customer_id  gender most_recent_order_date  order_count\n",
       "0             1000       0    2017-01-01 00:11:31            1\n",
       "1             1001       0    2017-01-01 00:29:56            1\n",
       "1742          1002       1    2017-02-19 21:35:31            3\n",
       "4323          1003       1    2017-04-26 02:37:20            4\n",
       "4             1004       0    2017-01-01 03:11:54            1\n",
       "12953         1005       1    2017-12-16 01:39:27            2\n",
       "4798          1006       1    2017-05-09 15:27:20            3\n",
       "7             1007       0    2017-01-01 15:59:50            1\n",
       "12991         1008       0    2017-12-17 05:47:48            3\n",
       "9             1009       1    2017-01-01 19:27:17            1"
      ]
     },
     "execution_count": 21,
     "metadata": {},
     "output_type": "execute_result"
    }
   ],
   "source": [
    "df2 = df.drop(columns= [\"value\",\"predicted_gender\"], inplace = False)\n",
    "df2.sort_values([\"customer_id\", \"date\"], inplace = True) \n",
    "df2[\"order_count\"] = df2[\"customer_id\"].map(df2[\"customer_id\"].value_counts()).astype(int)\n",
    "df2.drop_duplicates(subset=['customer_id'], keep='last', inplace =True)\n",
    "df2.sort_values(['customer_id'])\n",
    "df2.rename({'date': 'most_recent_order_date'}, axis='columns',inplace = True, errors = 'ignore')\n",
    "df2.head(10)"
   ]
  },
  {
   "cell_type": "code",
   "execution_count": 22,
   "metadata": {},
   "outputs": [],
   "source": [
    "# Question B :\n",
    "# Plot the count of orders per week for the store."
   ]
  },
  {
   "cell_type": "code",
   "execution_count": 23,
   "metadata": {},
   "outputs": [
    {
     "data": {
      "text/plain": [
       "<matplotlib.axes._subplots.AxesSubplot at 0x1d7c97f0188>"
      ]
     },
     "execution_count": 23,
     "metadata": {},
     "output_type": "execute_result"
    },
    {
     "data": {
      "image/png": "[encoded data removed]",
      "text/plain": [
       "<Figure size 432x288 with 1 Axes>"
      ]
     },
     "metadata": {
      "needs_background": "light"
     },
     "output_type": "display_data"
    },
    {
     "data": {
      "image/png": "[encoded data removed]",
      "text/plain": [
       "<Figure size 432x288 with 1 Axes>"
      ]
     },
     "metadata": {
      "needs_background": "light"
     },
     "output_type": "display_data"
    }
   ],
   "source": [
    "df3 = df2.loc[:, [\"order_count\"]]\n",
    "df3[\"week_number\"] = pd.to_datetime(df2[\"most_recent_order_date\"]).dt.week\n",
    "df4 = (df3.groupby(\"week_number\").sum().reset_index())\n",
    "df4.plot.bar(x=\"week_number\", y=\"order_count\")\n",
    "df4.plot.scatter(x=\"week_number\", y=\"order_count\")"
   ]
  },
  {
   "cell_type": "code",
   "execution_count": 24,
   "metadata": {},
   "outputs": [],
   "source": [
    "# Question C :\n",
    "# Compute the mean order value for gender 0 and for gender 1. Do you think the difference is significant? Justify your choice of method."
   ]
  },
  {
   "cell_type": "code",
   "execution_count": 25,
   "metadata": {},
   "outputs": [
    {
     "name": "stdout",
     "output_type": "stream",
     "text": [
      "\n",
      "The mean of gender 0 is 363.89000591803506\n",
      "\n",
      "The mean of gender 1 is 350.70836114422\n",
      "\n",
      " Claim : Difference between mean of gender 0 and gender 1 is significant \n",
      " \t As such, our Null Hypothesis are\n",
      "\n",
      "\t \t 1. Mean of gender 0 is equals (=) to gender 1\n",
      "\n",
      "\t \t 2. Mean of gender 0 is less than or equals (<=) to gender 1\n",
      "\n",
      "\t \t 3. Mean of gender 0 is greater than or equals (>=) to gender 1\n",
      "\n",
      " The t-value is : 1.9759505628067568\n",
      " The p-value is : 0.04820112750826186\n",
      " The calculated p-value is less (<) than 0.05\n",
      "Conclusion\n",
      " We accept the alternative hypothesis.\n",
      " There is statistically significant difference. \n"
     ]
    }
   ],
   "source": [
    "mean_of_genders = df.groupby('gender')['value'].mean()\n",
    "mean_of_gender_0 = mean_of_genders[0]\n",
    "mean_of_gender_1 = mean_of_genders[1]\n",
    "print(\"\\nThe mean of gender 0 is\", mean_of_gender_0)\n",
    "print(\"\\nThe mean of gender 1 is\",mean_of_gender_1)\n",
    "variance_gender_0 = df.groupby('gender')['value'].var(ddof=1)[0]\n",
    "variance_gender_1 = df.groupby('gender')['value'].var(ddof=1)[1]\n",
    "std = np.sqrt((variance_gender_0 + variance_gender_1)/2)\n",
    "n = float((df['customer_id'].count())/2)\n",
    "t_stat = (mean_of_gender_0 - mean_of_gender_1)/(std*np.sqrt(2/n))\n",
    "p_val = stats.t.sf(np.abs(t_stat), n-1)*2\n",
    "print(\"\\n Claim : Difference between mean of gender 0 and gender 1 is significant \\n \\t As such, our Null Hypothesis are\\n\")\n",
    "print(\"\\t \\t 1. Mean of gender 0 is equals (=) to gender 1\\n\")\n",
    "print(\"\\t \\t 2. Mean of gender 0 is less than or equals (<=) to gender 1\\n\")\n",
    "print(\"\\t \\t 3. Mean of gender 0 is greater than or equals (>=) to gender 1\\n\")\n",
    "print(\" The t-value is :\", t_stat)\n",
    "print(\" The p-value is :\", p_val)\n",
    "print(\" The calculated p-value is less (<) than 0.05\")\n",
    "print(\"Conclusion\")\n",
    "print(\" We accept the alternative hypothesis.\\n There is statistically significant difference. \")"
   ]
  },
  {
   "cell_type": "code",
   "execution_count": 26,
   "metadata": {},
   "outputs": [],
   "source": [
    "# Question D :\n",
    "# Generate a confusion matrix for the gender predictions of customers in this dataset. You can assume that there is only one gender prediction for each customer. What does the confusion matrix tell you about the quality of the predictions?"
   ]
  },
  {
   "cell_type": "code",
   "execution_count": 27,
   "metadata": {},
   "outputs": [
    {
     "name": "stdout",
     "output_type": "stream",
     "text": [
      "\n",
      " The confusion matrix is:\n",
      " [[3349 3410]\n",
      " [1463 5249]]\n",
      "\n",
      " The accuracy is :\n",
      " 0.6382599658525722\n",
      "\n",
      " The report is : \n",
      "               precision    recall  f1-score   support\n",
      "\n",
      "           0       0.70      0.50      0.58      6759\n",
      "           1       0.61      0.78      0.68      6712\n",
      "\n",
      "    accuracy                           0.64     13471\n",
      "   macro avg       0.65      0.64      0.63     13471\n",
      "weighted avg       0.65      0.64      0.63     13471\n",
      "\n",
      "\n",
      " Based on the above report, we can conclude that: \n",
      " Accuracy is 0.64. \n",
      " The Actual Yes and Predicted Yes is 5249\n"
     ]
    }
   ],
   "source": [
    "print(\"\\n The confusion matrix is:\\n\",confusion_matrix(df['gender'],df['predicted_gender']))\n",
    "print(\"\\n The accuracy is :\\n\",accuracy_score(df['gender'],df['predicted_gender']))\n",
    "print(\"\\n The report is : \\n\", classification_report(df['gender'],df['predicted_gender']))\n",
    "print(\"\\n Based on the above report, we can conclude that: \\n Accuracy is 0.64. \\n The Actual Yes and Predicted Yes is 5249\")"
   ]
  }
 ],
 "metadata": {
  "kernelspec": {
   "display_name": "Python 3",
   "language": "python",
   "name": "python3"
  },
  "language_info": {
   "codemirror_mode": {
    "name": "ipython",
    "version": 3
   },
   "file_extension": ".py",
   "mimetype": "text/x-python",
   "name": "python",
   "nbconvert_exporter": "python",
   "pygments_lexer": "ipython3",
   "version": "3.7.7"
  }
 },
 "nbformat": 4,
 "nbformat_minor": 4
}
